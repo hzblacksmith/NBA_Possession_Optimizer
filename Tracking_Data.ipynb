{
 "cells": [
  {
   "cell_type": "markdown",
   "metadata": {},
   "source": [
    "# Tracking Data Encapsulation Class"
   ]
  },
  {
   "cell_type": "markdown",
   "metadata": {},
   "source": [
    "Contains a class that makes it easier to interact with tracking data for one game."
   ]
  },
  {
   "cell_type": "code",
   "execution_count": null,
   "metadata": {},
   "outputs": [],
   "source": [
    "class Tracking():\n",
    "    def __init__(self, path_tracking, path_tracking_events, path_tracking_summarized):\n",
    "        tracking = pd.read_json(path_tracking, lines=True,\n",
    "                                compression='gzip', encoding='latin1')\n",
    "        events = pd.read_json(path_tracking_events, lines=True)\n",
    "        \n",
    "        data = {}\n",
    "        with open(path_tracking_summarized, \"r\") as read_file:\n",
    "            data = json.load(read_file)\n",
    "        keys = list(data.keys())\n",
    "        summarized_data = {k: None for k in keys}\n",
    "        for key in keys:\n",
    "            if key == 'game-state':\n",
    "                summarized_data[key] = pd.DataFrame(data[key], index=[0])\n",
    "            else:\n",
    "                summarized_data[key] = pd.DataFrame(data[key], index=[i for i in range(len(data[key]))])\n",
    "        \n",
    "        # indices to keep track of which row of dataframe we're looking at\n",
    "        tracking_idx = 0\n",
    "        events_idx = 0"
   ]
  }
 ],
 "metadata": {
  "kernelspec": {
   "display_name": "Python 3",
   "language": "python",
   "name": "python3"
  },
  "language_info": {
   "codemirror_mode": {
    "name": "ipython",
    "version": 3
   },
   "file_extension": ".py",
   "mimetype": "text/x-python",
   "name": "python",
   "nbconvert_exporter": "python",
   "pygments_lexer": "ipython3",
   "version": "3.6.5"
  }
 },
 "nbformat": 4,
 "nbformat_minor": 2
}
